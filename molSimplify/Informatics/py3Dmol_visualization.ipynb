{
 "cells": [
  {
   "cell_type": "code",
   "execution_count": null,
   "metadata": {
    "scrolled": true
   },
   "outputs": [],
   "source": [
    "from molSimplify.Informatics.jupyter_vis import view_structures"
   ]
  },
  {
   "cell_type": "code",
   "execution_count": null,
   "metadata": {},
   "outputs": [],
   "source": [
    "filename = '../../tests/refs/example_5.xyz'\n",
    "view_structures(filename,w=700,h=700)"
   ]
  },
  {
   "cell_type": "code",
   "execution_count": null,
   "metadata": {},
   "outputs": [],
   "source": [
    "filename1 = '../../tests/refs/example_5.xyz'\n",
    "filename2 = '../../tests/refs/example_1.xyz'\n",
    "filenames = [filename1, filename2]\n",
    "view_structures(filenames,w=400,h=400,labels=False)"
   ]
  },
  {
   "cell_type": "code",
   "execution_count": null,
   "metadata": {},
   "outputs": [],
   "source": [
    "filenames3 = filenames * 5\n",
    "print(filenames3)\n",
    "view_structures(filenames3,w=180,h=180,labelsize=25,columns=5)"
   ]
  }
 ],
 "metadata": {
  "kernelspec": {
   "display_name": "mols",
   "language": "python",
   "name": "mols"
  },
  "language_info": {
   "codemirror_mode": {
    "name": "ipython",
    "version": 3
   },
   "file_extension": ".py",
   "mimetype": "text/x-python",
   "name": "python",
   "nbconvert_exporter": "python",
   "pygments_lexer": "ipython3",
   "version": "3.6.8"
  }
 },
 "nbformat": 4,
 "nbformat_minor": 2
}
