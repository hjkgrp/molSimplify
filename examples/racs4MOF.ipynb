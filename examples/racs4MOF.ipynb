{
 "cells": [
  {
   "cell_type": "markdown",
   "metadata": {},
   "source": [
    "# Calculating the RACs for some MOFs ..."
   ]
  },
  {
   "cell_type": "code",
   "execution_count": 7,
   "metadata": {},
   "outputs": [],
   "source": [
    "from molSimplify.Informatics.MOF.MOF_descriptors import get_MOF_descriptors\n",
    "import os\n",
    "from glob import glob\n",
    "from pathlib import Path\n",
    "import pandas as pd "
   ]
  },
  {
   "cell_type": "markdown",
   "metadata": {},
   "source": [
    "The first step is to get some MOF CIFs as primitive structures. For this, we can use some of your favorites and the following utlity function"
   ]
  },
  {
   "cell_type": "code",
   "execution_count": null,
   "metadata": {},
   "outputs": [],
   "source": [
    "from pymatgen.io.cif import CifParser\n",
    "def get_primitive(datapath, writepath):\n",
    "    s = CifParser(datapath, occupancy_tolerance=1).get_structures()[0]\n",
    "    sprim = s.get_primitive_structure()\n",
    "    sprim.to(\"cif\",writepath)"
   ]
  },
  {
   "cell_type": "code",
   "execution_count": 4,
   "metadata": {},
   "outputs": [],
   "source": [
    "get_primitive(os.path.join('structures', 'UiO66.cif'), os.path.join('structures', 'UiO66_primitive.cif'))\n",
    "get_primitive(os.path.join('structures', 'hkust1.cif'), os.path.join('structures', 'hkust1_primitive.cif'))"
   ]
  },
  {
   "cell_type": "markdown",
   "metadata": {},
   "source": [
    "Now, we can get the RACs .."
   ]
  },
  {
   "cell_type": "code",
   "execution_count": 6,
   "metadata": {},
   "outputs": [
    {
     "name": "stdout",
     "output_type": "stream",
     "text": [
      "('cell vectors: ', 'alpha, beta, gamma = 89.99975933, 120.0001 ,120.00041684')\n",
      "[18.5949, 0, 0]\n",
      "[-9.297584317777133, 16.103617861180716, 0]\n",
      "[-9.297528106318486, -5.367930352512864, 15.18273097445874]\n",
      "Making the SBU RACs worked\n",
      "176 176\n",
      "('cell vectors: ', 'alpha, beta, gamma = 60.0, 60.0 ,60.0')\n",
      "[14.63739321, 0, 0]\n",
      "[7.318696605000002, 12.67635436504185, 0]\n",
      "[7.318696605000002, 4.225451455013951, 11.951381509659711]\n",
      "Making the SBU RACs worked\n",
      "176 176\n"
     ]
    }
   ],
   "source": [
    "featurization_list = []\n",
    "for cif_file in glob(os.path.join('structures', '*_primitive.cif')):\n",
    "    full_names, full_descriptors = get_MOF_descriptors(\n",
    "        cif_file, # inputstructure \n",
    "        3, # scope \n",
    "        path=os.path.join('structures', 'output'), # stuff will be dumped here \n",
    "        xyzpath=os.path.join('structures', 'output', 'xyz', Path(cif_file).stem + '.xyz'))\n",
    "    full_names.append('filename')\n",
    "    full_descriptors.append(cif_file)\n",
    "    featurization = dict(zip(full_names, full_descriptors))\n",
    "    featurization_list.append(featurization)\n"
   ]
  },
  {
   "cell_type": "code",
   "execution_count": 13,
   "metadata": {},
   "outputs": [],
   "source": [
    "df = pd.DataFrame(featurization_list)"
   ]
  },
  {
   "cell_type": "code",
   "execution_count": 14,
   "metadata": {},
   "outputs": [
    {
     "data": {
      "text/html": [
       "<div>\n",
       "<style scoped>\n",
       "    .dataframe tbody tr th:only-of-type {\n",
       "        vertical-align: middle;\n",
       "    }\n",
       "\n",
       "    .dataframe tbody tr th {\n",
       "        vertical-align: top;\n",
       "    }\n",
       "\n",
       "    .dataframe thead th {\n",
       "        text-align: right;\n",
       "    }\n",
       "</style>\n",
       "<table border=\"1\" class=\"dataframe\">\n",
       "  <thead>\n",
       "    <tr style=\"text-align: right;\">\n",
       "      <th></th>\n",
       "      <th>f-chi-0-all</th>\n",
       "      <th>f-chi-1-all</th>\n",
       "      <th>f-chi-2-all</th>\n",
       "      <th>f-chi-3-all</th>\n",
       "      <th>f-Z-0-all</th>\n",
       "      <th>f-Z-1-all</th>\n",
       "      <th>f-Z-2-all</th>\n",
       "      <th>f-Z-3-all</th>\n",
       "      <th>f-I-0-all</th>\n",
       "      <th>f-I-1-all</th>\n",
       "      <th>...</th>\n",
       "      <th>D_func-T-3-all</th>\n",
       "      <th>D_func-S-0-all</th>\n",
       "      <th>D_func-S-1-all</th>\n",
       "      <th>D_func-S-2-all</th>\n",
       "      <th>D_func-S-3-all</th>\n",
       "      <th>D_func-alpha-0-all</th>\n",
       "      <th>D_func-alpha-1-all</th>\n",
       "      <th>D_func-alpha-2-all</th>\n",
       "      <th>D_func-alpha-3-all</th>\n",
       "      <th>filename</th>\n",
       "    </tr>\n",
       "  </thead>\n",
       "  <tbody>\n",
       "    <tr>\n",
       "      <th>0</th>\n",
       "      <td>127.8988</td>\n",
       "      <td>244.9280</td>\n",
       "      <td>456.1952</td>\n",
       "      <td>525.632</td>\n",
       "      <td>2338.0</td>\n",
       "      <td>4480.0</td>\n",
       "      <td>4832.0</td>\n",
       "      <td>6016.0</td>\n",
       "      <td>14.0</td>\n",
       "      <td>32.0</td>\n",
       "      <td>...</td>\n",
       "      <td>0.0</td>\n",
       "      <td>0.0</td>\n",
       "      <td>0.0</td>\n",
       "      <td>0.0</td>\n",
       "      <td>0.0</td>\n",
       "      <td>0.0</td>\n",
       "      <td>0.0</td>\n",
       "      <td>0.0</td>\n",
       "      <td>0.0</td>\n",
       "      <td>structures/hkust1_primitive.cif</td>\n",
       "    </tr>\n",
       "    <tr>\n",
       "      <th>1</th>\n",
       "      <td>467.3186</td>\n",
       "      <td>860.2752</td>\n",
       "      <td>4181.3352</td>\n",
       "      <td>3624.384</td>\n",
       "      <td>12080.0</td>\n",
       "      <td>33024.0</td>\n",
       "      <td>71424.0</td>\n",
       "      <td>90624.0</td>\n",
       "      <td>50.0</td>\n",
       "      <td>144.0</td>\n",
       "      <td>...</td>\n",
       "      <td>0.0</td>\n",
       "      <td>0.0</td>\n",
       "      <td>0.0</td>\n",
       "      <td>0.0</td>\n",
       "      <td>0.0</td>\n",
       "      <td>0.0</td>\n",
       "      <td>0.0</td>\n",
       "      <td>0.0</td>\n",
       "      <td>0.0</td>\n",
       "      <td>structures/UiO66_primitive.cif</td>\n",
       "    </tr>\n",
       "  </tbody>\n",
       "</table>\n",
       "<p>2 rows × 177 columns</p>\n",
       "</div>"
      ],
      "text/plain": [
       "   f-chi-0-all  f-chi-1-all  f-chi-2-all  f-chi-3-all  f-Z-0-all  f-Z-1-all  \\\n",
       "0     127.8988     244.9280     456.1952      525.632     2338.0     4480.0   \n",
       "1     467.3186     860.2752    4181.3352     3624.384    12080.0    33024.0   \n",
       "\n",
       "   f-Z-2-all  f-Z-3-all  f-I-0-all  f-I-1-all  ...  D_func-T-3-all  \\\n",
       "0     4832.0     6016.0       14.0       32.0  ...             0.0   \n",
       "1    71424.0    90624.0       50.0      144.0  ...             0.0   \n",
       "\n",
       "   D_func-S-0-all  D_func-S-1-all  D_func-S-2-all  D_func-S-3-all  \\\n",
       "0             0.0             0.0             0.0             0.0   \n",
       "1             0.0             0.0             0.0             0.0   \n",
       "\n",
       "   D_func-alpha-0-all  D_func-alpha-1-all  D_func-alpha-2-all  \\\n",
       "0                 0.0                 0.0                 0.0   \n",
       "1                 0.0                 0.0                 0.0   \n",
       "\n",
       "   D_func-alpha-3-all                         filename  \n",
       "0                 0.0  structures/hkust1_primitive.cif  \n",
       "1                 0.0   structures/UiO66_primitive.cif  \n",
       "\n",
       "[2 rows x 177 columns]"
      ]
     },
     "execution_count": 14,
     "metadata": {},
     "output_type": "execute_result"
    }
   ],
   "source": [
    "df"
   ]
  },
  {
   "cell_type": "code",
   "execution_count": 15,
   "metadata": {},
   "outputs": [
    {
     "data": {
      "text/plain": [
       "(2, 177)"
      ]
     },
     "execution_count": 15,
     "metadata": {},
     "output_type": "execute_result"
    }
   ],
   "source": [
    "df.shape"
   ]
  },
  {
   "cell_type": "markdown",
   "metadata": {},
   "source": [
    "Let's get the 156 RACs reported in the [paper](https://chemrxiv.org/articles/Understanding_the_Diversity_of_the_Metal-Organic_Framework_Ecosystem/12251186). SBU Racs are redundant with mc RACs and are not included."
   ]
  },
  {
   "cell_type": "code",
   "execution_count": 10,
   "metadata": {},
   "outputs": [],
   "source": [
    "keep = [val for val in df.columns.values if ('mc' in val) or ('lc' in val) or ('f-lig' in val) or ('func') in val]\n",
    "df = df[['filename']+keep]"
   ]
  },
  {
   "cell_type": "code",
   "execution_count": 11,
   "metadata": {},
   "outputs": [
    {
     "data": {
      "text/plain": [
       "(2, 157)"
      ]
     },
     "execution_count": 11,
     "metadata": {},
     "output_type": "execute_result"
    }
   ],
   "source": [
    "df.shape"
   ]
  }
 ],
 "metadata": {
  "kernelspec": {
   "display_name": "Python [conda env:mols_test] *",
   "language": "python",
   "name": "conda-env-mols_test-py"
  },
  "language_info": {
   "codemirror_mode": {
    "name": "ipython",
    "version": 3
   },
   "file_extension": ".py",
   "mimetype": "text/x-python",
   "name": "python",
   "nbconvert_exporter": "python",
   "pygments_lexer": "ipython3",
   "version": "3.6.8"
  }
 },
 "nbformat": 4,
 "nbformat_minor": 4
}
